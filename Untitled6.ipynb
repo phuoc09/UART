{
  "nbformat": 4,
  "nbformat_minor": 0,
  "metadata": {
    "colab": {
      "provenance": []
    },
    "kernelspec": {
      "name": "python3",
      "display_name": "Python 3"
    },
    "language_info": {
      "name": "python"
    }
  },
  "cells": [
    {
      "cell_type": "code",
      "execution_count": 10,
      "metadata": {
        "colab": {
          "base_uri": "https://localhost:8080/"
        },
        "id": "qTmJnzWmtddA",
        "outputId": "1ac9a31a-1f3a-4f66-8f7d-7f6d27769997"
      },
      "outputs": [
        {
          "output_type": "stream",
          "name": "stdout",
          "text": [
            "1 MB mã ASCII đã được tạo và lưu vào 'ascii_data.txt'.\n"
          ]
        }
      ],
      "source": [
        "import random\n",
        "import string\n",
        "\n",
        "# Kích thước 1 MB (megabyte)\n",
        "SIZE = 1024 * 18  # 1 MB = 1.048.576 byte\n",
        "\n",
        "# Tạo chuỗi ngẫu nhiên với các ký tự ASCII\n",
        "ascii_chars = string.ascii_letters + string.digits\n",
        "ascii_data = ''.join(random.choices(ascii_chars, k=SIZE))\n",
        "\n",
        "# Lưu chuỗi vào file\n",
        "with open('ascii_data.txt', 'w') as file:\n",
        "    file.write(ascii_data)\n",
        "\n",
        "print(\"1 MB mã ASCII đã được tạo và lưu vào 'ascii_data.txt'.\")\n"
      ]
    },
    {
      "cell_type": "code",
      "source": [
        "# Đọc nội dung từ file input.txt\n",
        "with open('/content/nhan.txt', 'r', encoding='utf-8') as file:\n",
        "    content = file.read()\n",
        "\n",
        "# Xóa tất cả khoảng trắng trong nội dung\n",
        "content_no_spaces = content.replace(\" \", \"\").replace(\"\\n\", \"\").replace(\"\\t\", \"\")\n",
        "\n",
        "# Ghi lại nội dung đã xử lý vào chính file input.txt\n",
        "with open('input.txt', 'w', encoding='utf-8') as file:\n",
        "    file.write(content_no_spaces)\n",
        "\n",
        "print(\"Đã xóa khoảng trắng và ghi đè vào file input.txt.\")\n",
        "\n"
      ],
      "metadata": {
        "colab": {
          "base_uri": "https://localhost:8080/"
        },
        "id": "PPivrRXM1yFS",
        "outputId": "ae4d900b-8c32-4af9-ce40-075879a82412"
      },
      "execution_count": 11,
      "outputs": [
        {
          "output_type": "stream",
          "name": "stdout",
          "text": [
            "Đã xóa khoảng trắng và ghi đè vào file input.txt.\n"
          ]
        }
      ]
    },
    {
      "cell_type": "code",
      "source": [
        "pwd\n"
      ],
      "metadata": {
        "colab": {
          "base_uri": "https://localhost:8080/",
          "height": 36
        },
        "id": "pO_kDaDLuRdo",
        "outputId": "917386f6-6d85-4a69-f9c0-5d631fdffe6a"
      },
      "execution_count": null,
      "outputs": [
        {
          "output_type": "execute_result",
          "data": {
            "text/plain": [
              "'/content'"
            ],
            "application/vnd.google.colaboratory.intrinsic+json": {
              "type": "string"
            }
          },
          "metadata": {},
          "execution_count": 25
        }
      ]
    },
    {
      "cell_type": "code",
      "source": [
        "def compare_files(file1_path, file2_path):\n",
        "    with open(file1_path, 'r') as file1, open(file2_path, 'r') as file2:\n",
        "        file1_content = file1.read()\n",
        "        file2_content = file2.read()\n",
        "\n",
        "    # Kiểm tra độ dài của hai file\n",
        "    len1 = len(file1_content)\n",
        "    len2 = len(file2_content)\n",
        "    max_len = max(len1, len2)\n",
        "\n",
        "    # Đếm số lỗi (số ký tự khác nhau)\n",
        "    errors = 0\n",
        "    for i in range(max_len):\n",
        "        char1 = file1_content[i] if i < len1 else ''\n",
        "        char2 = file2_content[i] if i < len2 else ''\n",
        "        if char1 != char2:\n",
        "            errors += 1\n",
        "\n",
        "    print(f\"Số lỗi khác nhau giữa hai file là: {errors}\")\n",
        "\n",
        "# Đường dẫn tới hai file văn bản cần so sánh\n",
        "file1_path = '/content/input.txt'\n",
        "file2_path = '/content/goc.txt'\n",
        "\n",
        "# Gọi hàm so sánh\n",
        "compare_files(file1_path, file2_path)\n"
      ],
      "metadata": {
        "colab": {
          "base_uri": "https://localhost:8080/"
        },
        "id": "elsSlEG6wv32",
        "outputId": "aa8db84a-f738-4e1d-912e-49b9ed08638d"
      },
      "execution_count": 12,
      "outputs": [
        {
          "output_type": "stream",
          "name": "stdout",
          "text": [
            "Số lỗi khác nhau giữa hai file là: 39\n"
          ]
        }
      ]
    },
    {
      "cell_type": "code",
      "source": [
        "def count_characters(file_path):\n",
        "    with open(file_path, 'r') as file:\n",
        "        content = file.read()\n",
        "    return len(content)\n",
        "\n",
        "# Đường dẫn tới hai file văn bản\n",
        "file1_path = '/content/input.txt'\n",
        "file2_path = '/content/goc.txt'\n",
        "\n",
        "# Đếm số ký tự trong mỗi file\n",
        "file1_char_count = count_characters(file1_path)\n",
        "file2_char_count = count_characters(file2_path)\n",
        "\n",
        "# Tổng số ký tự trong cả hai file\n",
        "total_char_count = file1_char_count + file2_char_count\n",
        "\n",
        "print(f\"Số ký tự trong file '{file1_path}': {file1_char_count}\")\n",
        "print(f\"Số ký tự trong file '{file2_path}': {file2_char_count}\")\n",
        "print(f\"Tổng số ký tự trong cả hai file: {total_char_count}\")\n"
      ],
      "metadata": {
        "colab": {
          "base_uri": "https://localhost:8080/"
        },
        "id": "DHPKsK1Uw_7X",
        "outputId": "70679883-3b4c-45fa-c05b-fd3634b4b7d2"
      },
      "execution_count": 7,
      "outputs": [
        {
          "output_type": "stream",
          "name": "stdout",
          "text": [
            "Số ký tự trong file '/content/input.txt': 18432\n",
            "Số ký tự trong file '/content/goc.txt': 18432\n",
            "Tổng số ký tự trong cả hai file: 36864\n"
          ]
        }
      ]
    }
  ]
}